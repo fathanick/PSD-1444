{
  "nbformat": 4,
  "nbformat_minor": 0,
  "metadata": {
    "colab": {
      "provenance": []
    },
    "kernelspec": {
      "name": "python3",
      "display_name": "Python 3"
    },
    "language_info": {
      "name": "python"
    }
  },
  "cells": [
    {
      "cell_type": "code",
      "source": [
        "!pip install transformers"
      ],
      "metadata": {
        "colab": {
          "base_uri": "https://localhost:8080/"
        },
        "id": "Du9ePyip9-1U",
        "outputId": "e67a5cce-a836-4287-b7e2-45d826abcef7"
      },
      "execution_count": 1,
      "outputs": [
        {
          "output_type": "stream",
          "name": "stdout",
          "text": [
            "Looking in indexes: https://pypi.org/simple, https://us-python.pkg.dev/colab-wheels/public/simple/\n",
            "Requirement already satisfied: transformers in /usr/local/lib/python3.9/dist-packages (4.28.1)\n",
            "Requirement already satisfied: pyyaml>=5.1 in /usr/local/lib/python3.9/dist-packages (from transformers) (6.0)\n",
            "Requirement already satisfied: regex!=2019.12.17 in /usr/local/lib/python3.9/dist-packages (from transformers) (2022.10.31)\n",
            "Requirement already satisfied: tqdm>=4.27 in /usr/local/lib/python3.9/dist-packages (from transformers) (4.65.0)\n",
            "Requirement already satisfied: huggingface-hub<1.0,>=0.11.0 in /usr/local/lib/python3.9/dist-packages (from transformers) (0.13.4)\n",
            "Requirement already satisfied: requests in /usr/local/lib/python3.9/dist-packages (from transformers) (2.27.1)\n",
            "Requirement already satisfied: numpy>=1.17 in /usr/local/lib/python3.9/dist-packages (from transformers) (1.22.4)\n",
            "Requirement already satisfied: packaging>=20.0 in /usr/local/lib/python3.9/dist-packages (from transformers) (23.0)\n",
            "Requirement already satisfied: tokenizers!=0.11.3,<0.14,>=0.11.1 in /usr/local/lib/python3.9/dist-packages (from transformers) (0.13.3)\n",
            "Requirement already satisfied: filelock in /usr/local/lib/python3.9/dist-packages (from transformers) (3.11.0)\n",
            "Requirement already satisfied: typing-extensions>=3.7.4.3 in /usr/local/lib/python3.9/dist-packages (from huggingface-hub<1.0,>=0.11.0->transformers) (4.5.0)\n",
            "Requirement already satisfied: certifi>=2017.4.17 in /usr/local/lib/python3.9/dist-packages (from requests->transformers) (2022.12.7)\n",
            "Requirement already satisfied: idna<4,>=2.5 in /usr/local/lib/python3.9/dist-packages (from requests->transformers) (3.4)\n",
            "Requirement already satisfied: charset-normalizer~=2.0.0 in /usr/local/lib/python3.9/dist-packages (from requests->transformers) (2.0.12)\n",
            "Requirement already satisfied: urllib3<1.27,>=1.21.1 in /usr/local/lib/python3.9/dist-packages (from requests->transformers) (1.26.15)\n"
          ]
        }
      ]
    },
    {
      "cell_type": "markdown",
      "source": [
        "In this code, we're going to use the fine-tuned model to predict new data.\n",
        "The following are the steps:\n",
        "1. Import the packages\n",
        "2. Define the fine-tuned model\n",
        "3. Create the pipeline\n",
        "4. Prediction"
      ],
      "metadata": {
        "id": "CSkpN6rB-zsy"
      }
    },
    {
      "cell_type": "code",
      "source": [
        "#1 Import packages\n",
        "from transformers import AutoTokenizer, AutoModel, pipeline"
      ],
      "metadata": {
        "id": "iRgVeb9J_R5D"
      },
      "execution_count": 2,
      "outputs": []
    },
    {
      "cell_type": "code",
      "execution_count": 3,
      "metadata": {
        "colab": {
          "base_uri": "https://localhost:8080/"
        },
        "id": "IdVUOM5h9Xza",
        "outputId": "d3f88bfe-76b5-4732-8fe1-16a616e0b478"
      },
      "outputs": [
        {
          "output_type": "stream",
          "name": "stderr",
          "text": [
            "Some weights of the model checkpoint at fathan/abusive_content_identification were not used when initializing BertModel: ['classifier.bias', 'classifier.weight']\n",
            "- This IS expected if you are initializing BertModel from the checkpoint of a model trained on another task or with another architecture (e.g. initializing a BertForSequenceClassification model from a BertForPreTraining model).\n",
            "- This IS NOT expected if you are initializing BertModel from the checkpoint of a model that you expect to be exactly identical (initializing a BertForSequenceClassification model from a BertForSequenceClassification model).\n"
          ]
        }
      ],
      "source": [
        "#2 Define the model\n",
        "model_name = \"fathan/abusive_content_identification\"\n",
        "tokenizer = AutoTokenizer.from_pretrained(model_name)\n",
        "model = AutoModel.from_pretrained(model_name)"
      ]
    },
    {
      "cell_type": "code",
      "source": [
        "#3 Create pipeline\n",
        "my_pipeline  = pipeline(\"text-classification\", model=model_name, tokenizer=tokenizer)"
      ],
      "metadata": {
        "id": "SA70unEa9woS"
      },
      "execution_count": 4,
      "outputs": []
    },
    {
      "cell_type": "code",
      "source": [
        "#4 Prediction\n",
        "text_data = ['Kemarin ada gempa, biasanya gak terasa', \n",
        "             'Bocah ingusan bodoh!', \n",
        "             'banyak menunya, udh mau buka puasa sesuatu banget, wkwkw', \n",
        "             'permainannya jelek tolol semua..']\n",
        "\n",
        "for t in text_data:\n",
        "  print(my_pipeline(t))"
      ],
      "metadata": {
        "colab": {
          "base_uri": "https://localhost:8080/"
        },
        "id": "q73HzzBl-wUX",
        "outputId": "21e2f2a7-0f2c-4eb3-e900-0e7b6dfc59d0"
      },
      "execution_count": 16,
      "outputs": [
        {
          "output_type": "stream",
          "name": "stdout",
          "text": [
            "[{'label': 'Bukan_konten_kasar', 'score': 0.9997958540916443}]\n",
            "[{'label': 'Konten_kasar', 'score': 0.9999817609786987}]\n",
            "[{'label': 'Bukan_konten_kasar', 'score': 0.9467130899429321}]\n",
            "[{'label': 'Konten_kasar', 'score': 0.9999781847000122}]\n"
          ]
        }
      ]
    },
    {
      "cell_type": "code",
      "source": [
        "# additional info\n",
        "# see the tokenization result\n",
        "for t in text_data:\n",
        "  print(tokenizer.tokenize(t))\n",
        "  print('\\n')\n",
        "  print(tokenizer(t))"
      ],
      "metadata": {
        "colab": {
          "base_uri": "https://localhost:8080/"
        },
        "id": "Je7ZB_Y3_9Ru",
        "outputId": "21df0cc1-71a4-47c7-ef70-9b481f24fb33"
      },
      "execution_count": 17,
      "outputs": [
        {
          "output_type": "stream",
          "name": "stdout",
          "text": [
            "['kemarin', 'ada', 'gempa', ',', 'biasanya', 'gak', 'terasa']\n",
            "\n",
            "\n",
            "{'input_ids': [3, 4454, 1684, 4447, 16, 2276, 7552, 5776, 4], 'token_type_ids': [0, 0, 0, 0, 0, 0, 0, 0, 0], 'attention_mask': [1, 1, 1, 1, 1, 1, 1, 1, 1]}\n",
            "['bocah', 'ing', '##usan', 'bodoh', '!']\n",
            "\n",
            "\n",
            "{'input_ids': [3, 7916, 1974, 2278, 10500, 5, 4], 'token_type_ids': [0, 0, 0, 0, 0, 0, 0], 'attention_mask': [1, 1, 1, 1, 1, 1, 1]}\n",
            "['banyak', 'menun', '##ya', ',', 'udh', 'mau', 'buka', 'puasa', 'sesuatu', 'banget', ',', 'wkwkw']\n",
            "\n",
            "\n",
            "{'input_ids': [3, 1814, 9128, 1494, 16, 6138, 2882, 9012, 7336, 2876, 10218, 16, 6624, 4], 'token_type_ids': [0, 0, 0, 0, 0, 0, 0, 0, 0, 0, 0, 0, 0, 0], 'attention_mask': [1, 1, 1, 1, 1, 1, 1, 1, 1, 1, 1, 1, 1, 1]}\n",
            "['permainan', '##nya', 'jelek', 'tolol', 'semua', '.', '.']\n",
            "\n",
            "\n",
            "{'input_ids': [3, 4090, 1519, 13290, 10689, 2014, 18, 18, 4], 'token_type_ids': [0, 0, 0, 0, 0, 0, 0, 0, 0], 'attention_mask': [1, 1, 1, 1, 1, 1, 1, 1, 1]}\n"
          ]
        }
      ]
    },
    {
      "cell_type": "code",
      "source": [],
      "metadata": {
        "id": "4-o_xVuvA0pU"
      },
      "execution_count": null,
      "outputs": []
    }
  ]
}