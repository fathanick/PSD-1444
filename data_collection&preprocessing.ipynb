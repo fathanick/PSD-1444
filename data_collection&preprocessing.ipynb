{
 "cells": [
  {
   "cell_type": "markdown",
   "source": [
    "## Data Collection\n",
    "\n",
    "\n",
    "In this tutorial, we're going to collect abusive and non-abusive tweets.\n",
    "We will use a package, namely [Snscrape](https://github.com/JustAnotherArchivist/snscrape), a scraper for social networking services (SNS)."
   ],
   "metadata": {
    "collapsed": false
   }
  },
  {
   "cell_type": "code",
   "execution_count": 1,
   "metadata": {
    "collapsed": true
   },
   "outputs": [
    {
     "name": "stdout",
     "output_type": "stream",
     "text": [
      "Collecting git+https://github.com/JustAnotherArchivist/snscrape.git\r\n",
      "  Cloning https://github.com/JustAnotherArchivist/snscrape.git to /private/var/folders/8s/x2p8c7657h35nq207qw8480h0000gn/T/pip-req-build-3w2jzm06\r\n",
      "  Running command git clone -q https://github.com/JustAnotherArchivist/snscrape.git /private/var/folders/8s/x2p8c7657h35nq207qw8480h0000gn/T/pip-req-build-3w2jzm06\r\n",
      "  Resolved https://github.com/JustAnotherArchivist/snscrape.git to commit 3dd9c28e31b8babeb2a187fbae994d9717ded168\r\n",
      "  Installing build dependencies ... \u001B[?25ldone\r\n",
      "\u001B[?25h  Getting requirements to build wheel ... \u001B[?25ldone\r\n",
      "\u001B[?25h  Installing backend dependencies ... \u001B[?25ldone\r\n",
      "\u001B[?25h    Preparing wheel metadata ... \u001B[?25ldone\r\n",
      "\u001B[?25hRequirement already satisfied: requests[socks] in /Users/ahmadfathanhidayatullah/opt/anaconda3/lib/python3.9/site-packages (from snscrape==0.6.2.20230321.dev3+g3dd9c28) (2.27.1)\r\n",
      "Requirement already satisfied: lxml in /Users/ahmadfathanhidayatullah/opt/anaconda3/lib/python3.9/site-packages (from snscrape==0.6.2.20230321.dev3+g3dd9c28) (4.8.0)\r\n",
      "Requirement already satisfied: filelock in /Users/ahmadfathanhidayatullah/opt/anaconda3/lib/python3.9/site-packages (from snscrape==0.6.2.20230321.dev3+g3dd9c28) (3.6.0)\r\n",
      "Requirement already satisfied: beautifulsoup4 in /Users/ahmadfathanhidayatullah/opt/anaconda3/lib/python3.9/site-packages (from snscrape==0.6.2.20230321.dev3+g3dd9c28) (4.11.1)\r\n",
      "Requirement already satisfied: soupsieve>1.2 in /Users/ahmadfathanhidayatullah/opt/anaconda3/lib/python3.9/site-packages (from beautifulsoup4->snscrape==0.6.2.20230321.dev3+g3dd9c28) (2.3.1)\r\n",
      "Requirement already satisfied: charset-normalizer~=2.0.0 in /Users/ahmadfathanhidayatullah/opt/anaconda3/lib/python3.9/site-packages (from requests[socks]->snscrape==0.6.2.20230321.dev3+g3dd9c28) (2.0.4)\r\n",
      "Requirement already satisfied: idna<4,>=2.5 in /Users/ahmadfathanhidayatullah/opt/anaconda3/lib/python3.9/site-packages (from requests[socks]->snscrape==0.6.2.20230321.dev3+g3dd9c28) (2.10)\r\n",
      "Requirement already satisfied: certifi>=2017.4.17 in /Users/ahmadfathanhidayatullah/opt/anaconda3/lib/python3.9/site-packages (from requests[socks]->snscrape==0.6.2.20230321.dev3+g3dd9c28) (2021.10.8)\r\n",
      "Requirement already satisfied: urllib3<1.27,>=1.21.1 in /Users/ahmadfathanhidayatullah/opt/anaconda3/lib/python3.9/site-packages (from requests[socks]->snscrape==0.6.2.20230321.dev3+g3dd9c28) (1.26.9)\r\n",
      "Requirement already satisfied: PySocks!=1.5.7,>=1.5.6 in /Users/ahmadfathanhidayatullah/opt/anaconda3/lib/python3.9/site-packages (from requests[socks]->snscrape==0.6.2.20230321.dev3+g3dd9c28) (1.7.1)\r\n"
     ]
    }
   ],
   "source": [
    "# Installation\n",
    "!pip install git+https://github.com/JustAnotherArchivist/snscrape.git"
   ]
  },
  {
   "cell_type": "code",
   "execution_count": 1,
   "outputs": [],
   "source": [
    "import snscrape.modules.twitter as sntwitter\n",
    "import pandas as pd"
   ],
   "metadata": {
    "collapsed": false,
    "pycharm": {
     "name": "#%%\n"
    }
   }
  },
  {
   "cell_type": "markdown",
   "source": [
    "#### 1. Collect *abusive* data by keywords"
   ],
   "metadata": {
    "collapsed": false
   }
  },
  {
   "cell_type": "code",
   "execution_count": 2,
   "outputs": [
    {
     "name": "stdout",
     "output_type": "stream",
     "text": [
      "Dasar! kebiasaan buruk yang selalu ku kekang, sialan! \n",
      "\n",
      "Emang dasar guanya bgst, tadi katanya mau fokus sama yg dipunya. Tapi malah kaya gini lagi, malah dibls lagi. Sialan emang kenapa sih susah bgt \n",
      "\n",
      "Dasar bocah sialan. \n",
      "\n",
      "NAFAS GUA ABISSS GARA-GARA NGEJAR TUHHH ORANG SIALAN!!! GILAAA DASAR!!! \n",
      "\n",
      "palalo bau tai babi SUDAH RESCHEDULE DENGAN CUSTOMER emg dasar kurir lo aja pemalas! hati2 klo update status pengiriman padahal ga sesuai ya brengsek! pihak lo di daerah sini gaada chat ato telp samsek tai ⁦@jntexpressid⁩ https://t.co/JcgZTxtVMw \n",
      "\n",
      "Mari di nasehatin ayah banyak. Jarang jarang ayah ngobrol serius. Lebih ke tentang percintaan, hubungan pacaran. Pesen ayah juga buat jaga harga diri sebagai perempuan, jadi perempuan itu penting buat jaga kehormatan. Karena kata ayah, sifat dasar lelaki itu Brengsek. \n",
      "\n",
      "maren” pada aktif semprot giliran dikasi fakta pada mingkem dasar brengsek, si paling good “attitude” katanyah \n",
      "\n",
      "Dasar brengsek \n",
      "\n",
      "Se tolol tololnya gw, se goblok gobloknya gw kalo punya utang 500 perak pun gw tetep bayar. Ini org utang 1jt pas ditagih bilangnya \"udasi lu mh ga kekurangan, enak ga ngeroko sama ngopi duit utuh\" lo mati pun nanti utang lo harus dibayar! \n",
      "\n",
      "@Mdy_Asmara1701 Hanya orang Tolol dan Goblok yg mau Retweet seperti kamu ini... \n",
      "\n",
      "@tanyakanrl lu goblok apa tolol \n",
      "\n",
      "BACOT BANGET ANJINGGGGGG, TOLOL LU GOBLOK, ANJING \n",
      "\n"
     ]
    }
   ],
   "source": [
    "keywords = ['dasar sialan', 'dasar brengsek', 'tolol goblok']\n",
    "\n",
    "# Creating list to append tweet data to\n",
    "tweet_list_kw = []\n",
    "\n",
    "# Define start and end date\n",
    "start_date = '2023-01-01'\n",
    "end_date = '2023-01-31'\n",
    "max_tweet = 3\n",
    "\n",
    "for kw in keywords:\n",
    "  src_param = f'{kw} since:{start_date} until:{end_date} filter:safe'\n",
    "  # Using TwitterSearchScraper to scrape data and append tweets to list\n",
    "  for i,tweet in enumerate(sntwitter.TwitterSearchScraper(src_param).get_items()):\n",
    "      if i>max_tweet:\n",
    "          break\n",
    "      print(f'{tweet.rawContent} \\n') # show tweet\n",
    "      tweet_list_kw.append([tweet.rawContent])\n",
    "      #tweet_list_kw.append([tweet.user.username, tweet.date, tweet.likeCount, tweet.sourceLabel, tweet.rawContent])\n",
    "\n",
    "# Creating a dataframe to load the list\n",
    "abusive_df = pd.DataFrame(tweet_list_kw, columns=[\"Tweet\"])"
   ],
   "metadata": {
    "collapsed": false,
    "pycharm": {
     "name": "#%%\n"
    }
   }
  },
  {
   "cell_type": "code",
   "execution_count": 3,
   "outputs": [
    {
     "data": {
      "text/plain": "                                               Tweet\n0  Dasar! kebiasaan buruk yang selalu ku kekang, ...\n1  Emang dasar guanya bgst, tadi katanya mau foku...\n2                                Dasar bocah sialan.\n3  NAFAS GUA ABISSS GARA-GARA NGEJAR TUHHH ORANG ...\n4  palalo bau tai babi SUDAH RESCHEDULE DENGAN CU...",
      "text/html": "<div>\n<style scoped>\n    .dataframe tbody tr th:only-of-type {\n        vertical-align: middle;\n    }\n\n    .dataframe tbody tr th {\n        vertical-align: top;\n    }\n\n    .dataframe thead th {\n        text-align: right;\n    }\n</style>\n<table border=\"1\" class=\"dataframe\">\n  <thead>\n    <tr style=\"text-align: right;\">\n      <th></th>\n      <th>Tweet</th>\n    </tr>\n  </thead>\n  <tbody>\n    <tr>\n      <th>0</th>\n      <td>Dasar! kebiasaan buruk yang selalu ku kekang, ...</td>\n    </tr>\n    <tr>\n      <th>1</th>\n      <td>Emang dasar guanya bgst, tadi katanya mau foku...</td>\n    </tr>\n    <tr>\n      <th>2</th>\n      <td>Dasar bocah sialan.</td>\n    </tr>\n    <tr>\n      <th>3</th>\n      <td>NAFAS GUA ABISSS GARA-GARA NGEJAR TUHHH ORANG ...</td>\n    </tr>\n    <tr>\n      <th>4</th>\n      <td>palalo bau tai babi SUDAH RESCHEDULE DENGAN CU...</td>\n    </tr>\n  </tbody>\n</table>\n</div>"
     },
     "execution_count": 3,
     "metadata": {},
     "output_type": "execute_result"
    }
   ],
   "source": [
    "# see the data\n",
    "abusive_df.head()"
   ],
   "metadata": {
    "collapsed": false,
    "pycharm": {
     "name": "#%%\n"
    }
   }
  },
  {
   "cell_type": "code",
   "execution_count": 4,
   "outputs": [
    {
     "data": {
      "text/plain": "                                               Tweet  Label\n0  Dasar! kebiasaan buruk yang selalu ku kekang, ...      1\n1  Emang dasar guanya bgst, tadi katanya mau foku...      1\n2                                Dasar bocah sialan.      1\n3  NAFAS GUA ABISSS GARA-GARA NGEJAR TUHHH ORANG ...      1\n4  palalo bau tai babi SUDAH RESCHEDULE DENGAN CU...      1",
      "text/html": "<div>\n<style scoped>\n    .dataframe tbody tr th:only-of-type {\n        vertical-align: middle;\n    }\n\n    .dataframe tbody tr th {\n        vertical-align: top;\n    }\n\n    .dataframe thead th {\n        text-align: right;\n    }\n</style>\n<table border=\"1\" class=\"dataframe\">\n  <thead>\n    <tr style=\"text-align: right;\">\n      <th></th>\n      <th>Tweet</th>\n      <th>Label</th>\n    </tr>\n  </thead>\n  <tbody>\n    <tr>\n      <th>0</th>\n      <td>Dasar! kebiasaan buruk yang selalu ku kekang, ...</td>\n      <td>1</td>\n    </tr>\n    <tr>\n      <th>1</th>\n      <td>Emang dasar guanya bgst, tadi katanya mau foku...</td>\n      <td>1</td>\n    </tr>\n    <tr>\n      <th>2</th>\n      <td>Dasar bocah sialan.</td>\n      <td>1</td>\n    </tr>\n    <tr>\n      <th>3</th>\n      <td>NAFAS GUA ABISSS GARA-GARA NGEJAR TUHHH ORANG ...</td>\n      <td>1</td>\n    </tr>\n    <tr>\n      <th>4</th>\n      <td>palalo bau tai babi SUDAH RESCHEDULE DENGAN CU...</td>\n      <td>1</td>\n    </tr>\n  </tbody>\n</table>\n</div>"
     },
     "execution_count": 4,
     "metadata": {},
     "output_type": "execute_result"
    }
   ],
   "source": [
    "# label the data by adding one column\n",
    "abusive_df['Label'] = 1\n",
    "abusive_df.head()"
   ],
   "metadata": {
    "collapsed": false,
    "pycharm": {
     "name": "#%%\n"
    }
   }
  },
  {
   "cell_type": "markdown",
   "source": [
    "#### 2. Collect *non-abusive* data by keywords"
   ],
   "metadata": {
    "collapsed": false
   }
  },
  {
   "cell_type": "code",
   "execution_count": 5,
   "outputs": [
    {
     "name": "stdout",
     "output_type": "stream",
     "text": [
      "Menabung pahala di hari-hari akhir Ramadan dengan mengikuti kegiatan ini🤩\n",
      "\n",
      "Siapa yang sudah ikut Semarak Iktikaf bareng di Ulil? Cung! https://t.co/bzVDnhfwu1 \n",
      "\n",
      "Tonton keseruannya secara menyeluruh di sini!😉\n",
      "\n",
      "https://t.co/qcnfBzNNmF \n",
      "\n",
      "Momen seru-seruan bareng teman kelas emang selalu sukses bikin rindu.😀\n",
      "\n",
      "Tapi, kalau Sobat sedang rindu sama suasana kelas. Jangan khawatir‼️\n",
      "\n",
      "Siapa tau ini bisa mengobati👇🏻 https://t.co/zRmSzEMEWy \n",
      "\n",
      "Cari tahu lebih mendalam tentang sejarah UII melalui unggahan ini‼️\n",
      "\n",
      "Selanjutnya, sejarah UII mana lagi nih yang pingin Sobat kulik?\n",
      "\n",
      "Komen di bawah, ya!😉 https://t.co/OEcBvBL9sj \n",
      "\n",
      "Arnold Schwarzenegger selalu fokus dengan kebugaran tubuhnya. Ia berlatih setiap hari demi tetap memiliki tubuh kekar. Aksi pemuda Bali ini bikin Arnold terinspirasi! \n",
      "\n",
      "https://t.co/aihdFMnuJH \n",
      "\n",
      "Halo Detikers! Siap-siap Detik Pagi akan kedatangan banyak tamu loh, eittsss penasaran kan ada apa sih\n",
      "Makanya jangan sampai ketinggalan nonton Detik Pagi disiarkan langsung dari Command Center Kementerian Perhubungan\n",
      "Jam 08:00 live di Detikcom\n",
      "\n",
      "#detikpagi #jangantidurlagi https://t.co/cIeUJdeTOS \n",
      "\n",
      "Real Madrid mengatasi Chelsea di leg pertama perempatfinal #UCL 2022/2023. Los Blancos menang 2-0 atas sepuluh pemain The Blues.\n",
      "\n",
      "https://t.co/9AjY5BACuS \n",
      "\n",
      "AC Milan berhadapan dengan Napoli di leg pertama perempatfinal #UCL. Rossoneri menuntaskannya dengan kemenangan 1-0.\n",
      "\n",
      "https://t.co/AcP5hmDcF3 \n",
      "\n",
      "KPK Tetapkan 10 Tersangka Korupsi Proyek Rel Kereta, Total Suap Rp14,5 miliar https://t.co/dHInFOqwFi \n",
      "\n",
      "Bisa Bikin Ngantuk, Hindari Makanan Ini Jika Berkendara Saat Mudik https://t.co/jPOvARdujT \n",
      "\n",
      "Mudik Lebaran Naik Kereta? Ketahui Aturan Bagasi Hingga Barang Bawaan https://t.co/GSFGbf6wl4 \n",
      "\n",
      "Berlaku Hari Ini Kamis 12 April 2023, Simak 26 Titik Ganjil Genap Jakarta https://t.co/Rgg4jwc1JF \n",
      "\n"
     ]
    }
   ],
   "source": [
    "username = ['@UIIYogyakarta', '@detikcom', '@liputan6dotcom']\n",
    "\n",
    "# Created a list to append all tweet attributes(data)\n",
    "tweet_list_usr = []\n",
    "\n",
    "# Define start and end date\n",
    "start_date = '2023-01-01'\n",
    "end_date = '2023-01-31'\n",
    "max_tweet = 3\n",
    "\n",
    "for usr in username:\n",
    "  # Using TwitterSearchScraper to scrape data and append tweets to list\n",
    "  for i,tweet in enumerate(sntwitter.TwitterSearchScraper(f'from:{usr}').get_items()):\n",
    "      if i>max_tweet:\n",
    "          break\n",
    "      print(f'{tweet.rawContent} \\n') # show tweet\n",
    "      tweet_list_usr.append([tweet.rawContent])\n",
    "\n",
    "# Creating a dataframe from the tweets list above\n",
    "non_abusive_df = pd.DataFrame(tweet_list_usr, columns=[\"Tweet\"])"
   ],
   "metadata": {
    "collapsed": false,
    "pycharm": {
     "name": "#%%\n"
    }
   }
  },
  {
   "cell_type": "code",
   "execution_count": 6,
   "outputs": [
    {
     "data": {
      "text/plain": "                                               Tweet\n0  Menabung pahala di hari-hari akhir Ramadan den...\n1  Tonton keseruannya secara menyeluruh di sini!😉...\n2  Momen seru-seruan bareng teman kelas emang sel...\n3  Cari tahu lebih mendalam tentang sejarah UII m...\n4  Arnold Schwarzenegger selalu fokus dengan kebu...",
      "text/html": "<div>\n<style scoped>\n    .dataframe tbody tr th:only-of-type {\n        vertical-align: middle;\n    }\n\n    .dataframe tbody tr th {\n        vertical-align: top;\n    }\n\n    .dataframe thead th {\n        text-align: right;\n    }\n</style>\n<table border=\"1\" class=\"dataframe\">\n  <thead>\n    <tr style=\"text-align: right;\">\n      <th></th>\n      <th>Tweet</th>\n    </tr>\n  </thead>\n  <tbody>\n    <tr>\n      <th>0</th>\n      <td>Menabung pahala di hari-hari akhir Ramadan den...</td>\n    </tr>\n    <tr>\n      <th>1</th>\n      <td>Tonton keseruannya secara menyeluruh di sini!😉...</td>\n    </tr>\n    <tr>\n      <th>2</th>\n      <td>Momen seru-seruan bareng teman kelas emang sel...</td>\n    </tr>\n    <tr>\n      <th>3</th>\n      <td>Cari tahu lebih mendalam tentang sejarah UII m...</td>\n    </tr>\n    <tr>\n      <th>4</th>\n      <td>Arnold Schwarzenegger selalu fokus dengan kebu...</td>\n    </tr>\n  </tbody>\n</table>\n</div>"
     },
     "execution_count": 6,
     "metadata": {},
     "output_type": "execute_result"
    }
   ],
   "source": [
    "# see the data\n",
    "non_abusive_df.head()"
   ],
   "metadata": {
    "collapsed": false,
    "pycharm": {
     "name": "#%%\n"
    }
   }
  },
  {
   "cell_type": "code",
   "execution_count": 7,
   "outputs": [
    {
     "data": {
      "text/plain": "                                               Tweet  Label\n0  Menabung pahala di hari-hari akhir Ramadan den...      0\n1  Tonton keseruannya secara menyeluruh di sini!😉...      0\n2  Momen seru-seruan bareng teman kelas emang sel...      0\n3  Cari tahu lebih mendalam tentang sejarah UII m...      0\n4  Arnold Schwarzenegger selalu fokus dengan kebu...      0",
      "text/html": "<div>\n<style scoped>\n    .dataframe tbody tr th:only-of-type {\n        vertical-align: middle;\n    }\n\n    .dataframe tbody tr th {\n        vertical-align: top;\n    }\n\n    .dataframe thead th {\n        text-align: right;\n    }\n</style>\n<table border=\"1\" class=\"dataframe\">\n  <thead>\n    <tr style=\"text-align: right;\">\n      <th></th>\n      <th>Tweet</th>\n      <th>Label</th>\n    </tr>\n  </thead>\n  <tbody>\n    <tr>\n      <th>0</th>\n      <td>Menabung pahala di hari-hari akhir Ramadan den...</td>\n      <td>0</td>\n    </tr>\n    <tr>\n      <th>1</th>\n      <td>Tonton keseruannya secara menyeluruh di sini!😉...</td>\n      <td>0</td>\n    </tr>\n    <tr>\n      <th>2</th>\n      <td>Momen seru-seruan bareng teman kelas emang sel...</td>\n      <td>0</td>\n    </tr>\n    <tr>\n      <th>3</th>\n      <td>Cari tahu lebih mendalam tentang sejarah UII m...</td>\n      <td>0</td>\n    </tr>\n    <tr>\n      <th>4</th>\n      <td>Arnold Schwarzenegger selalu fokus dengan kebu...</td>\n      <td>0</td>\n    </tr>\n  </tbody>\n</table>\n</div>"
     },
     "execution_count": 7,
     "metadata": {},
     "output_type": "execute_result"
    }
   ],
   "source": [
    "# label the data by adding one column\n",
    "non_abusive_df['Label'] = 0\n",
    "non_abusive_df.head()"
   ],
   "metadata": {
    "collapsed": false,
    "pycharm": {
     "name": "#%%\n"
    }
   }
  },
  {
   "cell_type": "code",
   "execution_count": 8,
   "outputs": [],
   "source": [
    "# Merge dataframe into one\n",
    "\n",
    "all_df = pd.concat([abusive_df, non_abusive_df])"
   ],
   "metadata": {
    "collapsed": false,
    "pycharm": {
     "name": "#%%\n"
    }
   }
  },
  {
   "cell_type": "code",
   "execution_count": 9,
   "outputs": [
    {
     "data": {
      "text/plain": "                                                Tweet  Label\n0   Dasar! kebiasaan buruk yang selalu ku kekang, ...      1\n1   Emang dasar guanya bgst, tadi katanya mau foku...      1\n2                                 Dasar bocah sialan.      1\n3   NAFAS GUA ABISSS GARA-GARA NGEJAR TUHHH ORANG ...      1\n4   palalo bau tai babi SUDAH RESCHEDULE DENGAN CU...      1\n5   Mari di nasehatin ayah banyak. Jarang jarang a...      1\n6   maren” pada aktif semprot giliran dikasi fakta...      1\n7                                      Dasar brengsek      1\n8   Se tolol tololnya gw, se goblok gobloknya gw k...      1\n9   @Mdy_Asmara1701 Hanya orang Tolol dan Goblok y...      1\n10                    @tanyakanrl lu goblok apa tolol      1\n11  BACOT BANGET ANJINGGGGGG, TOLOL LU GOBLOK, ANJING      1\n0   Menabung pahala di hari-hari akhir Ramadan den...      0\n1   Tonton keseruannya secara menyeluruh di sini!😉...      0\n2   Momen seru-seruan bareng teman kelas emang sel...      0\n3   Cari tahu lebih mendalam tentang sejarah UII m...      0\n4   Arnold Schwarzenegger selalu fokus dengan kebu...      0\n5   Halo Detikers! Siap-siap Detik Pagi akan kedat...      0\n6   Real Madrid mengatasi Chelsea di leg pertama p...      0\n7   AC Milan berhadapan dengan Napoli di leg perta...      0\n8   KPK Tetapkan 10 Tersangka Korupsi Proyek Rel K...      0\n9   Bisa Bikin Ngantuk, Hindari Makanan Ini Jika B...      0\n10  Mudik Lebaran Naik Kereta? Ketahui Aturan Baga...      0\n11  Berlaku Hari Ini Kamis 12 April 2023, Simak 26...      0",
      "text/html": "<div>\n<style scoped>\n    .dataframe tbody tr th:only-of-type {\n        vertical-align: middle;\n    }\n\n    .dataframe tbody tr th {\n        vertical-align: top;\n    }\n\n    .dataframe thead th {\n        text-align: right;\n    }\n</style>\n<table border=\"1\" class=\"dataframe\">\n  <thead>\n    <tr style=\"text-align: right;\">\n      <th></th>\n      <th>Tweet</th>\n      <th>Label</th>\n    </tr>\n  </thead>\n  <tbody>\n    <tr>\n      <th>0</th>\n      <td>Dasar! kebiasaan buruk yang selalu ku kekang, ...</td>\n      <td>1</td>\n    </tr>\n    <tr>\n      <th>1</th>\n      <td>Emang dasar guanya bgst, tadi katanya mau foku...</td>\n      <td>1</td>\n    </tr>\n    <tr>\n      <th>2</th>\n      <td>Dasar bocah sialan.</td>\n      <td>1</td>\n    </tr>\n    <tr>\n      <th>3</th>\n      <td>NAFAS GUA ABISSS GARA-GARA NGEJAR TUHHH ORANG ...</td>\n      <td>1</td>\n    </tr>\n    <tr>\n      <th>4</th>\n      <td>palalo bau tai babi SUDAH RESCHEDULE DENGAN CU...</td>\n      <td>1</td>\n    </tr>\n    <tr>\n      <th>5</th>\n      <td>Mari di nasehatin ayah banyak. Jarang jarang a...</td>\n      <td>1</td>\n    </tr>\n    <tr>\n      <th>6</th>\n      <td>maren” pada aktif semprot giliran dikasi fakta...</td>\n      <td>1</td>\n    </tr>\n    <tr>\n      <th>7</th>\n      <td>Dasar brengsek</td>\n      <td>1</td>\n    </tr>\n    <tr>\n      <th>8</th>\n      <td>Se tolol tololnya gw, se goblok gobloknya gw k...</td>\n      <td>1</td>\n    </tr>\n    <tr>\n      <th>9</th>\n      <td>@Mdy_Asmara1701 Hanya orang Tolol dan Goblok y...</td>\n      <td>1</td>\n    </tr>\n    <tr>\n      <th>10</th>\n      <td>@tanyakanrl lu goblok apa tolol</td>\n      <td>1</td>\n    </tr>\n    <tr>\n      <th>11</th>\n      <td>BACOT BANGET ANJINGGGGGG, TOLOL LU GOBLOK, ANJING</td>\n      <td>1</td>\n    </tr>\n    <tr>\n      <th>0</th>\n      <td>Menabung pahala di hari-hari akhir Ramadan den...</td>\n      <td>0</td>\n    </tr>\n    <tr>\n      <th>1</th>\n      <td>Tonton keseruannya secara menyeluruh di sini!😉...</td>\n      <td>0</td>\n    </tr>\n    <tr>\n      <th>2</th>\n      <td>Momen seru-seruan bareng teman kelas emang sel...</td>\n      <td>0</td>\n    </tr>\n    <tr>\n      <th>3</th>\n      <td>Cari tahu lebih mendalam tentang sejarah UII m...</td>\n      <td>0</td>\n    </tr>\n    <tr>\n      <th>4</th>\n      <td>Arnold Schwarzenegger selalu fokus dengan kebu...</td>\n      <td>0</td>\n    </tr>\n    <tr>\n      <th>5</th>\n      <td>Halo Detikers! Siap-siap Detik Pagi akan kedat...</td>\n      <td>0</td>\n    </tr>\n    <tr>\n      <th>6</th>\n      <td>Real Madrid mengatasi Chelsea di leg pertama p...</td>\n      <td>0</td>\n    </tr>\n    <tr>\n      <th>7</th>\n      <td>AC Milan berhadapan dengan Napoli di leg perta...</td>\n      <td>0</td>\n    </tr>\n    <tr>\n      <th>8</th>\n      <td>KPK Tetapkan 10 Tersangka Korupsi Proyek Rel K...</td>\n      <td>0</td>\n    </tr>\n    <tr>\n      <th>9</th>\n      <td>Bisa Bikin Ngantuk, Hindari Makanan Ini Jika B...</td>\n      <td>0</td>\n    </tr>\n    <tr>\n      <th>10</th>\n      <td>Mudik Lebaran Naik Kereta? Ketahui Aturan Baga...</td>\n      <td>0</td>\n    </tr>\n    <tr>\n      <th>11</th>\n      <td>Berlaku Hari Ini Kamis 12 April 2023, Simak 26...</td>\n      <td>0</td>\n    </tr>\n  </tbody>\n</table>\n</div>"
     },
     "execution_count": 9,
     "metadata": {},
     "output_type": "execute_result"
    }
   ],
   "source": [
    "all_df"
   ],
   "metadata": {
    "collapsed": false,
    "pycharm": {
     "name": "#%%\n"
    }
   }
  },
  {
   "cell_type": "markdown",
   "source": [
    "## Data Preprocessing\n",
    "\n",
    "Once we have the raw tweets, we then pre-processing them.\n",
    "The following are some pre-processing tasks:\n",
    "1. remove punctuations\n",
    "2. remove digits or numbers\n",
    "3. to lowercase\n",
    "4. remove additional white spaces\n",
    "\n",
    "Here, we're going to use [tweet-preprocessor](https://pypi.org/project/tweet-preprocessor/) package."
   ],
   "metadata": {
    "collapsed": false
   }
  },
  {
   "cell_type": "code",
   "execution_count": 12,
   "outputs": [
    {
     "name": "stdout",
     "output_type": "stream",
     "text": [
      "Collecting tweet-preprocessor\r\n",
      "  Using cached tweet_preprocessor-0.6.0-py3-none-any.whl (27 kB)\r\n",
      "Installing collected packages: tweet-preprocessor\r\n",
      "Successfully installed tweet-preprocessor-0.6.0\r\n"
     ]
    }
   ],
   "source": [
    "# Package installation\n",
    "!pip install tweet-preprocessor"
   ],
   "metadata": {
    "collapsed": false,
    "pycharm": {
     "name": "#%%\n"
    }
   }
  },
  {
   "cell_type": "code",
   "execution_count": 13,
   "outputs": [],
   "source": [
    "import preprocessor as p\n",
    "import re"
   ],
   "metadata": {
    "collapsed": false,
    "pycharm": {
     "name": "#%%\n"
    }
   }
  },
  {
   "cell_type": "code",
   "execution_count": 14,
   "outputs": [],
   "source": [
    "# define raw tweet from the dataframe\n",
    "tweet_list = list(all_df['Tweet'])\n",
    "\n",
    "# make an empty list for the clean tweets\n",
    "clean_tweet = []\n",
    "\n",
    "for t in tweet_list:\n",
    "  new_tweet = p.clean(t)\n",
    "  #remove punctuations\n",
    "  new_tweet = re.sub(r'[^\\w]|_',' ',new_tweet)\n",
    "  # remove digit or numbers\n",
    "  new_tweet = re.sub(r\"\\b\\d+\\b\", \" \", new_tweet)\n",
    "  # to lowercase\n",
    "  new_tweet = new_tweet.lower()\n",
    "  # Remove additional white spaces\n",
    "  new_tweet = re.sub('[\\s]+', ' ', new_tweet)\n",
    "  # append clean tweet to the list\n",
    "  clean_tweet.append(new_tweet)"
   ],
   "metadata": {
    "collapsed": false,
    "pycharm": {
     "name": "#%%\n"
    }
   }
  },
  {
   "cell_type": "code",
   "execution_count": 15,
   "outputs": [
    {
     "data": {
      "text/plain": "['dasar kebiasaan buruk yang selalu ku kekang sialan ',\n 'emang dasar guanya bgst tadi katanya mau fokus sama yg dipunya tapi malah kaya gini lagi malah dibls lagi sialan emang kenapa sih susah bgt',\n 'dasar bocah sialan ',\n 'nafas gua abisss gara gara ngejar tuhhh orang sialan gilaaa dasar ',\n 'palalo bau tai babi sudah reschedule dengan customer emg dasar kurir lo aja pemalas hati2 klo update status pengiriman padahal ga sesuai ya brengsek pihak lo di daerah sini gaada chat ato telp samsek tai',\n 'mari di nasehatin ayah banyak jarang jarang ayah ngobrol serius lebih ke tentang percintaan hubungan pacaran pesen ayah juga buat jaga harga diri sebagai perempuan jadi perempuan itu penting buat jaga kehormatan karena kata ayah sifat dasar lelaki itu brengsek ',\n 'maren pada aktif semprot giliran dikasi fakta pada mingkem dasar brengsek si paling good attitude katanyah',\n 'dasar brengsek',\n 'se tolol tololnya gw se goblok gobloknya gw kalo punya utang perak pun gw tetep bayar ini org utang jt pas ditagih bilangnya udasi lu mh ga kekurangan enak ga ngeroko sama ngopi duit utuh lo mati pun nanti utang lo harus dibayar ',\n 'hanya orang tolol dan goblok yg mau retweet seperti kamu ini ',\n 'lu goblok apa tolol',\n 'bacot banget anjingggggg tolol lu goblok anjing',\n 'menabung pahala di hari hari akhir ramadan dengan mengikuti kegiatan inisiapa yang sudah ikut semarak iktikaf bareng di ulil cung ',\n 'tonton keseruannya secara menyeluruh di sini ',\n 'momen seru seruan bareng teman kelas emang selalu sukses bikin rindu tapi kalau sobat sedang rindu sama suasana kelas jangan khawatirsiapa tau ini bisa mengobati',\n 'cari tahu lebih mendalam tentang sejarah uii melalui unggahan iniselanjutnya sejarah uii mana lagi nih yang pingin sobat kulik komen di bawah ya ',\n 'arnold schwarzenegger selalu fokus dengan kebugaran tubuhnya ia berlatih setiap hari demi tetap memiliki tubuh kekar aksi pemuda bali ini bikin arnold terinspirasi ',\n 'halo detikers siap siap detik pagi akan kedatangan banyak tamu loh eittssspenasaran kan ada apa sihmakanya jangan sampai ketinggalan nonton detik pagi disiarkan langsung dari command center kementerian perhubunganjam live di detikcom',\n 'real madrid mengatasi chelsea di leg pertama perempatfinal los blancos menang atas sepuluh pemain the blues ',\n 'ac milan berhadapan dengan napoli di leg pertama perempatfinal rossoneri menuntaskannya dengan kemenangan ',\n 'kpk tetapkan tersangka korupsi proyek rel kereta total suap rp14 miliar',\n 'bisa bikin ngantuk hindari makanan ini jika berkendara saat mudik',\n 'mudik lebaran naik kereta ketahui aturan bagasi hingga barang bawaan',\n 'berlaku hari ini kamis april simak titik ganjil genap jakarta']"
     },
     "execution_count": 15,
     "metadata": {},
     "output_type": "execute_result"
    }
   ],
   "source": [
    "clean_tweet"
   ],
   "metadata": {
    "collapsed": false,
    "pycharm": {
     "name": "#%%\n"
    }
   }
  },
  {
   "cell_type": "code",
   "execution_count": 16,
   "outputs": [],
   "source": [
    "# add new column to all_df for the clean tweet\n",
    "all_df['Clean_tweet'] = clean_tweet"
   ],
   "metadata": {
    "collapsed": false,
    "pycharm": {
     "name": "#%%\n"
    }
   }
  },
  {
   "cell_type": "code",
   "execution_count": 17,
   "outputs": [
    {
     "data": {
      "text/plain": "                                                Tweet  Label  \\\n0   Dasar! kebiasaan buruk yang selalu ku kekang, ...      1   \n1   Emang dasar guanya bgst, tadi katanya mau foku...      1   \n2                                 Dasar bocah sialan.      1   \n3   NAFAS GUA ABISSS GARA-GARA NGEJAR TUHHH ORANG ...      1   \n4   palalo bau tai babi SUDAH RESCHEDULE DENGAN CU...      1   \n5   Mari di nasehatin ayah banyak. Jarang jarang a...      1   \n6   maren” pada aktif semprot giliran dikasi fakta...      1   \n7                                      Dasar brengsek      1   \n8   Se tolol tololnya gw, se goblok gobloknya gw k...      1   \n9   @Mdy_Asmara1701 Hanya orang Tolol dan Goblok y...      1   \n10                    @tanyakanrl lu goblok apa tolol      1   \n11  BACOT BANGET ANJINGGGGGG, TOLOL LU GOBLOK, ANJING      1   \n0   Menabung pahala di hari-hari akhir Ramadan den...      0   \n1   Tonton keseruannya secara menyeluruh di sini!😉...      0   \n2   Momen seru-seruan bareng teman kelas emang sel...      0   \n3   Cari tahu lebih mendalam tentang sejarah UII m...      0   \n4   Arnold Schwarzenegger selalu fokus dengan kebu...      0   \n5   Halo Detikers! Siap-siap Detik Pagi akan kedat...      0   \n6   Real Madrid mengatasi Chelsea di leg pertama p...      0   \n7   AC Milan berhadapan dengan Napoli di leg perta...      0   \n8   KPK Tetapkan 10 Tersangka Korupsi Proyek Rel K...      0   \n9   Bisa Bikin Ngantuk, Hindari Makanan Ini Jika B...      0   \n10  Mudik Lebaran Naik Kereta? Ketahui Aturan Baga...      0   \n11  Berlaku Hari Ini Kamis 12 April 2023, Simak 26...      0   \n\n                                          Clean_tweet  \n0   dasar kebiasaan buruk yang selalu ku kekang si...  \n1   emang dasar guanya bgst tadi katanya mau fokus...  \n2                                 dasar bocah sialan   \n3   nafas gua abisss gara gara ngejar tuhhh orang ...  \n4   palalo bau tai babi sudah reschedule dengan cu...  \n5   mari di nasehatin ayah banyak jarang jarang ay...  \n6   maren pada aktif semprot giliran dikasi fakta ...  \n7                                      dasar brengsek  \n8   se tolol tololnya gw se goblok gobloknya gw ka...  \n9   hanya orang tolol dan goblok yg mau retweet se...  \n10                                lu goblok apa tolol  \n11    bacot banget anjingggggg tolol lu goblok anjing  \n0   menabung pahala di hari hari akhir ramadan den...  \n1       tonton keseruannya secara menyeluruh di sini   \n2   momen seru seruan bareng teman kelas emang sel...  \n3   cari tahu lebih mendalam tentang sejarah uii m...  \n4   arnold schwarzenegger selalu fokus dengan kebu...  \n5   halo detikers siap siap detik pagi akan kedata...  \n6   real madrid mengatasi chelsea di leg pertama p...  \n7   ac milan berhadapan dengan napoli di leg perta...  \n8   kpk tetapkan tersangka korupsi proyek rel kere...  \n9   bisa bikin ngantuk hindari makanan ini jika be...  \n10  mudik lebaran naik kereta ketahui aturan bagas...  \n11  berlaku hari ini kamis april simak titik ganji...  ",
      "text/html": "<div>\n<style scoped>\n    .dataframe tbody tr th:only-of-type {\n        vertical-align: middle;\n    }\n\n    .dataframe tbody tr th {\n        vertical-align: top;\n    }\n\n    .dataframe thead th {\n        text-align: right;\n    }\n</style>\n<table border=\"1\" class=\"dataframe\">\n  <thead>\n    <tr style=\"text-align: right;\">\n      <th></th>\n      <th>Tweet</th>\n      <th>Label</th>\n      <th>Clean_tweet</th>\n    </tr>\n  </thead>\n  <tbody>\n    <tr>\n      <th>0</th>\n      <td>Dasar! kebiasaan buruk yang selalu ku kekang, ...</td>\n      <td>1</td>\n      <td>dasar kebiasaan buruk yang selalu ku kekang si...</td>\n    </tr>\n    <tr>\n      <th>1</th>\n      <td>Emang dasar guanya bgst, tadi katanya mau foku...</td>\n      <td>1</td>\n      <td>emang dasar guanya bgst tadi katanya mau fokus...</td>\n    </tr>\n    <tr>\n      <th>2</th>\n      <td>Dasar bocah sialan.</td>\n      <td>1</td>\n      <td>dasar bocah sialan</td>\n    </tr>\n    <tr>\n      <th>3</th>\n      <td>NAFAS GUA ABISSS GARA-GARA NGEJAR TUHHH ORANG ...</td>\n      <td>1</td>\n      <td>nafas gua abisss gara gara ngejar tuhhh orang ...</td>\n    </tr>\n    <tr>\n      <th>4</th>\n      <td>palalo bau tai babi SUDAH RESCHEDULE DENGAN CU...</td>\n      <td>1</td>\n      <td>palalo bau tai babi sudah reschedule dengan cu...</td>\n    </tr>\n    <tr>\n      <th>5</th>\n      <td>Mari di nasehatin ayah banyak. Jarang jarang a...</td>\n      <td>1</td>\n      <td>mari di nasehatin ayah banyak jarang jarang ay...</td>\n    </tr>\n    <tr>\n      <th>6</th>\n      <td>maren” pada aktif semprot giliran dikasi fakta...</td>\n      <td>1</td>\n      <td>maren pada aktif semprot giliran dikasi fakta ...</td>\n    </tr>\n    <tr>\n      <th>7</th>\n      <td>Dasar brengsek</td>\n      <td>1</td>\n      <td>dasar brengsek</td>\n    </tr>\n    <tr>\n      <th>8</th>\n      <td>Se tolol tololnya gw, se goblok gobloknya gw k...</td>\n      <td>1</td>\n      <td>se tolol tololnya gw se goblok gobloknya gw ka...</td>\n    </tr>\n    <tr>\n      <th>9</th>\n      <td>@Mdy_Asmara1701 Hanya orang Tolol dan Goblok y...</td>\n      <td>1</td>\n      <td>hanya orang tolol dan goblok yg mau retweet se...</td>\n    </tr>\n    <tr>\n      <th>10</th>\n      <td>@tanyakanrl lu goblok apa tolol</td>\n      <td>1</td>\n      <td>lu goblok apa tolol</td>\n    </tr>\n    <tr>\n      <th>11</th>\n      <td>BACOT BANGET ANJINGGGGGG, TOLOL LU GOBLOK, ANJING</td>\n      <td>1</td>\n      <td>bacot banget anjingggggg tolol lu goblok anjing</td>\n    </tr>\n    <tr>\n      <th>0</th>\n      <td>Menabung pahala di hari-hari akhir Ramadan den...</td>\n      <td>0</td>\n      <td>menabung pahala di hari hari akhir ramadan den...</td>\n    </tr>\n    <tr>\n      <th>1</th>\n      <td>Tonton keseruannya secara menyeluruh di sini!😉...</td>\n      <td>0</td>\n      <td>tonton keseruannya secara menyeluruh di sini</td>\n    </tr>\n    <tr>\n      <th>2</th>\n      <td>Momen seru-seruan bareng teman kelas emang sel...</td>\n      <td>0</td>\n      <td>momen seru seruan bareng teman kelas emang sel...</td>\n    </tr>\n    <tr>\n      <th>3</th>\n      <td>Cari tahu lebih mendalam tentang sejarah UII m...</td>\n      <td>0</td>\n      <td>cari tahu lebih mendalam tentang sejarah uii m...</td>\n    </tr>\n    <tr>\n      <th>4</th>\n      <td>Arnold Schwarzenegger selalu fokus dengan kebu...</td>\n      <td>0</td>\n      <td>arnold schwarzenegger selalu fokus dengan kebu...</td>\n    </tr>\n    <tr>\n      <th>5</th>\n      <td>Halo Detikers! Siap-siap Detik Pagi akan kedat...</td>\n      <td>0</td>\n      <td>halo detikers siap siap detik pagi akan kedata...</td>\n    </tr>\n    <tr>\n      <th>6</th>\n      <td>Real Madrid mengatasi Chelsea di leg pertama p...</td>\n      <td>0</td>\n      <td>real madrid mengatasi chelsea di leg pertama p...</td>\n    </tr>\n    <tr>\n      <th>7</th>\n      <td>AC Milan berhadapan dengan Napoli di leg perta...</td>\n      <td>0</td>\n      <td>ac milan berhadapan dengan napoli di leg perta...</td>\n    </tr>\n    <tr>\n      <th>8</th>\n      <td>KPK Tetapkan 10 Tersangka Korupsi Proyek Rel K...</td>\n      <td>0</td>\n      <td>kpk tetapkan tersangka korupsi proyek rel kere...</td>\n    </tr>\n    <tr>\n      <th>9</th>\n      <td>Bisa Bikin Ngantuk, Hindari Makanan Ini Jika B...</td>\n      <td>0</td>\n      <td>bisa bikin ngantuk hindari makanan ini jika be...</td>\n    </tr>\n    <tr>\n      <th>10</th>\n      <td>Mudik Lebaran Naik Kereta? Ketahui Aturan Baga...</td>\n      <td>0</td>\n      <td>mudik lebaran naik kereta ketahui aturan bagas...</td>\n    </tr>\n    <tr>\n      <th>11</th>\n      <td>Berlaku Hari Ini Kamis 12 April 2023, Simak 26...</td>\n      <td>0</td>\n      <td>berlaku hari ini kamis april simak titik ganji...</td>\n    </tr>\n  </tbody>\n</table>\n</div>"
     },
     "execution_count": 17,
     "metadata": {},
     "output_type": "execute_result"
    }
   ],
   "source": [
    "all_df"
   ],
   "metadata": {
    "collapsed": false,
    "pycharm": {
     "name": "#%%\n"
    }
   }
  },
  {
   "cell_type": "code",
   "execution_count": 18,
   "outputs": [],
   "source": [
    "# save to excel\n",
    "all_df.to_excel('tweet_data.xlsx', index=None)"
   ],
   "metadata": {
    "collapsed": false,
    "pycharm": {
     "name": "#%%\n"
    }
   }
  },
  {
   "cell_type": "code",
   "execution_count": 19,
   "outputs": [
    {
     "data": {
      "text/plain": "                                               Tweet  Label  \\\n0  Dasar! kebiasaan buruk yang selalu ku kekang, ...      1   \n1  Emang dasar guanya bgst, tadi katanya mau foku...      1   \n2                                Dasar bocah sialan.      1   \n3  NAFAS GUA ABISSS GARA-GARA NGEJAR TUHHH ORANG ...      1   \n4  palalo bau tai babi SUDAH RESCHEDULE DENGAN CU...      1   \n\n                                         Clean_tweet  \n0  dasar kebiasaan buruk yang selalu ku kekang si...  \n1  emang dasar guanya bgst tadi katanya mau fokus...  \n2                                dasar bocah sialan   \n3  nafas gua abisss gara gara ngejar tuhhh orang ...  \n4  palalo bau tai babi sudah reschedule dengan cu...  ",
      "text/html": "<div>\n<style scoped>\n    .dataframe tbody tr th:only-of-type {\n        vertical-align: middle;\n    }\n\n    .dataframe tbody tr th {\n        vertical-align: top;\n    }\n\n    .dataframe thead th {\n        text-align: right;\n    }\n</style>\n<table border=\"1\" class=\"dataframe\">\n  <thead>\n    <tr style=\"text-align: right;\">\n      <th></th>\n      <th>Tweet</th>\n      <th>Label</th>\n      <th>Clean_tweet</th>\n    </tr>\n  </thead>\n  <tbody>\n    <tr>\n      <th>0</th>\n      <td>Dasar! kebiasaan buruk yang selalu ku kekang, ...</td>\n      <td>1</td>\n      <td>dasar kebiasaan buruk yang selalu ku kekang si...</td>\n    </tr>\n    <tr>\n      <th>1</th>\n      <td>Emang dasar guanya bgst, tadi katanya mau foku...</td>\n      <td>1</td>\n      <td>emang dasar guanya bgst tadi katanya mau fokus...</td>\n    </tr>\n    <tr>\n      <th>2</th>\n      <td>Dasar bocah sialan.</td>\n      <td>1</td>\n      <td>dasar bocah sialan</td>\n    </tr>\n    <tr>\n      <th>3</th>\n      <td>NAFAS GUA ABISSS GARA-GARA NGEJAR TUHHH ORANG ...</td>\n      <td>1</td>\n      <td>nafas gua abisss gara gara ngejar tuhhh orang ...</td>\n    </tr>\n    <tr>\n      <th>4</th>\n      <td>palalo bau tai babi SUDAH RESCHEDULE DENGAN CU...</td>\n      <td>1</td>\n      <td>palalo bau tai babi sudah reschedule dengan cu...</td>\n    </tr>\n  </tbody>\n</table>\n</div>"
     },
     "execution_count": 19,
     "metadata": {},
     "output_type": "execute_result"
    }
   ],
   "source": [
    "# load data\n",
    "data = pd.read_excel('tweet_data.xlsx')\n",
    "data.head()"
   ],
   "metadata": {
    "collapsed": false,
    "pycharm": {
     "name": "#%%\n"
    }
   }
  },
  {
   "cell_type": "code",
   "execution_count": null,
   "outputs": [],
   "source": [],
   "metadata": {
    "collapsed": false,
    "pycharm": {
     "name": "#%%\n"
    }
   }
  }
 ],
 "metadata": {
  "kernelspec": {
   "display_name": "Python 3",
   "language": "python",
   "name": "python3"
  },
  "language_info": {
   "codemirror_mode": {
    "name": "ipython",
    "version": 2
   },
   "file_extension": ".py",
   "mimetype": "text/x-python",
   "name": "python",
   "nbconvert_exporter": "python",
   "pygments_lexer": "ipython2",
   "version": "2.7.6"
  }
 },
 "nbformat": 4,
 "nbformat_minor": 0
}